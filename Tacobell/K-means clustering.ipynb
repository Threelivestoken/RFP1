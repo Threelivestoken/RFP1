{
 "cells": [
  {
   "cell_type": "code",
   "execution_count": 2,
   "id": "6cb4e198",
   "metadata": {},
   "outputs": [],
   "source": [
    "import pandas as pd\n",
    "from sklearn.model_selection import train_test_split\n"
   ]
  },
  {
   "cell_type": "code",
   "execution_count": 3,
   "id": "aded82a6",
   "metadata": {},
   "outputs": [],
   "source": [
    "#Wrangling----------------------------------------------------------------------------------------------------------------------"
   ]
  },
  {
   "cell_type": "code",
   "execution_count": 4,
   "id": "9b38a5a3",
   "metadata": {},
   "outputs": [],
   "source": [
    "#1Merge datasets\n",
    "\n",
    "# Load the datasets\n",
    "customer_profiles = pd.read_csv(\"customer_profiles.csv\")\n",
    "ad_events = pd.read_csv(\"ad_events.csv\")\n",
    "\n",
    "# Merge the datasets on the 'id' and 'customer' columns using left join\n",
    "merged_data = pd.merge(customer_profiles, ad_events, left_on='id', right_on='customer', how='left')\n",
    "\n",
    "# For non-matching rows, fill in NaN values with the corresponding 'id' or 'customer' value\n",
    "merged_data['customer'].fillna(merged_data['id'], inplace=True)\n",
    "merged_data['id'].fillna(merged_data['customer'], inplace=True)\n",
    "\n",
    "\n",
    "dfO=merged_data\n"
   ]
  },
  {
   "cell_type": "code",
   "execution_count": 5,
   "id": "f4f14d08",
   "metadata": {},
   "outputs": [],
   "source": [
    "#2 Split data into testing and training\n",
    "#df0=dfO\n",
    "#--------------------------------------------------------------------------------------------------------------------------\n",
    "\n",
    "\n",
    "# Assuming dfO is your original dataframe\n",
    "train_df, test_df = train_test_split(dfO, test_size=0.3, random_state=42)\n",
    "\n",
    "# train_df will contain 70% of the data\n",
    "# test_df will contain 30% of the data"
   ]
  },
  {
   "cell_type": "code",
   "execution_count": 6,
   "id": "35a4ad92",
   "metadata": {},
   "outputs": [],
   "source": [
    "#len(train_df)"
   ]
  },
  {
   "cell_type": "code",
   "execution_count": 7,
   "id": "68dc9ff4",
   "metadata": {
    "scrolled": true
   },
   "outputs": [
    {
     "name": "stdout",
     "output_type": "stream",
     "text": [
      "0.5790270890798996\n"
     ]
    }
   ],
   "source": [
    "#split numerical parts of dataframe\n",
    "df = pd.DataFrame((((train_df.drop('id', axis=1)).drop('home_state', axis=1)).drop('event', axis=1)).drop('event_info', axis=1))\n",
    "\n",
    "# Make float dataset\n",
    "df1 = {}\n",
    "\n",
    "# Extract year, month, and day from \"became_member_on (year month day)\"\n",
    "df1[\"year\"] = df[\"became_member_on (year month day)\"].apply(lambda x: float(str(x)[:4]) if pd.notnull(x) and len(str(x)) == 10 else 0)\n",
    "df1[\"month\"] = df[\"became_member_on (year month day)\"].apply(lambda x: float(str(x)[4:6]) if pd.notnull(x) and len(str(x)) == 10 else 0)\n",
    "df1[\"day\"] = df[\"became_member_on (year month day)\"].apply(lambda x: float(str(x)[6:8]) if pd.notnull(x) and len(str(x)) == 10 else 0)\n",
    "\n",
    "# Other columns\n",
    "df1[\"gender\"] = df[\"gender\"].map({'F': 0.0, 'M': 1.0}).fillna(0.5790270890798996)\n",
    "df1[\"ever_married\"] = df[\"ever_married\"].map({'No': 0.0, 'Yes': 1.0}).fillna(0.5247599943435656)\n",
    "df1[\"time\"] = df[\"time\"].apply(lambda x: float(x) if pd.notnull(x) else 366.6747497813369)\n",
    "df1[\"age\"] = df[\"age\"].apply(lambda x: float(x) if pd.notnull(x) else 53.81169310700612)\n",
    "df1[\"income\"] = df[\"income\"].apply(lambda x: float(x) if pd.notnull(x) else 64304.72993144192)\n",
    "df1[\"kids\"] = df[\"kids\"].apply(lambda x: float(x) if pd.notnull(x) else 1.692206166561045)\n",
    "\n",
    "# Create a new DataFrame\n",
    "df = (pd.DataFrame(df1))\n",
    "print((df[\"gender\"]).mean())"
   ]
  },
  {
   "cell_type": "code",
   "execution_count": null,
   "id": "6f16aaf0",
   "metadata": {},
   "outputs": [],
   "source": []
  },
  {
   "cell_type": "code",
   "execution_count": null,
   "id": "c939be95",
   "metadata": {
    "scrolled": true
   },
   "outputs": [],
   "source": [
    "#df.info()\n",
    "df.head()"
   ]
  },
  {
   "cell_type": "code",
   "execution_count": null,
   "id": "a5eaa890",
   "metadata": {},
   "outputs": [],
   "source": []
  },
  {
   "cell_type": "code",
   "execution_count": null,
   "id": "b7a07cf9",
   "metadata": {},
   "outputs": [],
   "source": [
    "#KMeans--------------------------------------------------------------------------------------------------------------------"
   ]
  },
  {
   "cell_type": "code",
   "execution_count": 9,
   "id": "1fc5ea77",
   "metadata": {},
   "outputs": [
    {
     "data": {
      "text/html": [
       "<div>\n",
       "<style scoped>\n",
       "    .dataframe tbody tr th:only-of-type {\n",
       "        vertical-align: middle;\n",
       "    }\n",
       "\n",
       "    .dataframe tbody tr th {\n",
       "        vertical-align: top;\n",
       "    }\n",
       "\n",
       "    .dataframe thead th {\n",
       "        text-align: right;\n",
       "    }\n",
       "</style>\n",
       "<table border=\"1\" class=\"dataframe\">\n",
       "  <thead>\n",
       "    <tr style=\"text-align: right;\">\n",
       "      <th></th>\n",
       "      <th>year</th>\n",
       "      <th>month</th>\n",
       "      <th>day</th>\n",
       "      <th>gender</th>\n",
       "      <th>ever_married</th>\n",
       "      <th>time</th>\n",
       "      <th>age</th>\n",
       "      <th>income</th>\n",
       "      <th>kids</th>\n",
       "    </tr>\n",
       "  </thead>\n",
       "  <tbody>\n",
       "    <tr>\n",
       "      <th>count</th>\n",
       "      <td>190933.0</td>\n",
       "      <td>190933.0</td>\n",
       "      <td>190933.0</td>\n",
       "      <td>190933.000000</td>\n",
       "      <td>190933.000000</td>\n",
       "      <td>190933.000000</td>\n",
       "      <td>190933.000000</td>\n",
       "      <td>190933.000000</td>\n",
       "      <td>190933.000000</td>\n",
       "    </tr>\n",
       "    <tr>\n",
       "      <th>mean</th>\n",
       "      <td>0.0</td>\n",
       "      <td>0.0</td>\n",
       "      <td>0.0</td>\n",
       "      <td>0.579027</td>\n",
       "      <td>0.524760</td>\n",
       "      <td>366.674750</td>\n",
       "      <td>53.811693</td>\n",
       "      <td>64304.729931</td>\n",
       "      <td>1.692206</td>\n",
       "    </tr>\n",
       "    <tr>\n",
       "      <th>std</th>\n",
       "      <td>0.0</td>\n",
       "      <td>0.0</td>\n",
       "      <td>0.0</td>\n",
       "      <td>0.490114</td>\n",
       "      <td>0.499388</td>\n",
       "      <td>200.309509</td>\n",
       "      <td>17.558611</td>\n",
       "      <td>21230.653930</td>\n",
       "      <td>1.472091</td>\n",
       "    </tr>\n",
       "    <tr>\n",
       "      <th>min</th>\n",
       "      <td>0.0</td>\n",
       "      <td>0.0</td>\n",
       "      <td>0.0</td>\n",
       "      <td>0.000000</td>\n",
       "      <td>0.000000</td>\n",
       "      <td>0.000000</td>\n",
       "      <td>18.000000</td>\n",
       "      <td>30000.000000</td>\n",
       "      <td>0.000000</td>\n",
       "    </tr>\n",
       "    <tr>\n",
       "      <th>25%</th>\n",
       "      <td>0.0</td>\n",
       "      <td>0.0</td>\n",
       "      <td>0.0</td>\n",
       "      <td>0.000000</td>\n",
       "      <td>0.000000</td>\n",
       "      <td>186.000000</td>\n",
       "      <td>41.000000</td>\n",
       "      <td>48000.000000</td>\n",
       "      <td>0.000000</td>\n",
       "    </tr>\n",
       "    <tr>\n",
       "      <th>50%</th>\n",
       "      <td>0.0</td>\n",
       "      <td>0.0</td>\n",
       "      <td>0.0</td>\n",
       "      <td>1.000000</td>\n",
       "      <td>1.000000</td>\n",
       "      <td>408.000000</td>\n",
       "      <td>55.000000</td>\n",
       "      <td>62000.000000</td>\n",
       "      <td>2.000000</td>\n",
       "    </tr>\n",
       "    <tr>\n",
       "      <th>75%</th>\n",
       "      <td>0.0</td>\n",
       "      <td>0.0</td>\n",
       "      <td>0.0</td>\n",
       "      <td>1.000000</td>\n",
       "      <td>1.000000</td>\n",
       "      <td>528.000000</td>\n",
       "      <td>66.000000</td>\n",
       "      <td>77000.000000</td>\n",
       "      <td>3.000000</td>\n",
       "    </tr>\n",
       "    <tr>\n",
       "      <th>max</th>\n",
       "      <td>0.0</td>\n",
       "      <td>0.0</td>\n",
       "      <td>0.0</td>\n",
       "      <td>1.000000</td>\n",
       "      <td>1.000000</td>\n",
       "      <td>714.000000</td>\n",
       "      <td>101.000000</td>\n",
       "      <td>120000.000000</td>\n",
       "      <td>5.000000</td>\n",
       "    </tr>\n",
       "  </tbody>\n",
       "</table>\n",
       "</div>"
      ],
      "text/plain": [
       "           year     month       day         gender   ever_married  \\\n",
       "count  190933.0  190933.0  190933.0  190933.000000  190933.000000   \n",
       "mean        0.0       0.0       0.0       0.579027       0.524760   \n",
       "std         0.0       0.0       0.0       0.490114       0.499388   \n",
       "min         0.0       0.0       0.0       0.000000       0.000000   \n",
       "25%         0.0       0.0       0.0       0.000000       0.000000   \n",
       "50%         0.0       0.0       0.0       1.000000       1.000000   \n",
       "75%         0.0       0.0       0.0       1.000000       1.000000   \n",
       "max         0.0       0.0       0.0       1.000000       1.000000   \n",
       "\n",
       "                time            age         income           kids  \n",
       "count  190933.000000  190933.000000  190933.000000  190933.000000  \n",
       "mean      366.674750      53.811693   64304.729931       1.692206  \n",
       "std       200.309509      17.558611   21230.653930       1.472091  \n",
       "min         0.000000      18.000000   30000.000000       0.000000  \n",
       "25%       186.000000      41.000000   48000.000000       0.000000  \n",
       "50%       408.000000      55.000000   62000.000000       2.000000  \n",
       "75%       528.000000      66.000000   77000.000000       3.000000  \n",
       "max       714.000000     101.000000  120000.000000       5.000000  "
      ]
     },
     "execution_count": 9,
     "metadata": {},
     "output_type": "execute_result"
    }
   ],
   "source": [
    "#1get data\n",
    "#df = pd.read_csv(\"demo.csv\")\n",
    "df.describe()"
   ]
  },
  {
   "cell_type": "code",
   "execution_count": 10,
   "id": "87006f00",
   "metadata": {},
   "outputs": [],
   "source": [
    "# Import stuff needed\n",
    "from sklearn.preprocessing import StandardScaler\n",
    "scaler = StandardScaler()\n",
    "from sklearn.cluster import KMeans"
   ]
  },
  {
   "cell_type": "code",
   "execution_count": 11,
   "id": "21c4b30e",
   "metadata": {},
   "outputs": [],
   "source": [
    "#Scale down data\n",
    "scaled_df = pd.DataFrame(scaler.fit_transform(df))"
   ]
  },
  {
   "cell_type": "code",
   "execution_count": 15,
   "id": "c63ae99c",
   "metadata": {},
   "outputs": [
    {
     "name": "stdout",
     "output_type": "stream",
     "text": [
      "Inertia 1 is Done\n",
      "Inertia 2 is Done\n",
      "Inertia 3 is Done\n",
      "Inertia 4 is Done\n",
      "Inertia 5 is Done\n",
      "Inertia 6 is Done\n",
      "Inertia 7 is Done\n",
      "Inertia 8 is Done\n",
      "Inertia 9 is Done\n",
      "Inertia 10 is Done\n",
      "Inertia 11 is Done\n",
      "Inertia 12 is Done\n",
      "Inertia 13 is Done\n",
      "Inertia 14 is Done\n",
      "Inertia 15 is Done\n",
      "Inertia 16 is Done\n",
      "Inertia 17 is Done\n",
      "Inertia 18 is Done\n",
      "Inertia 19 is Done\n"
     ]
    }
   ],
   "source": [
    "#make inertias stuff\n",
    "inertias = []\n",
    "\n",
    "for cluster in range(1,20):\n",
    "    kmeans = KMeans(n_clusters=cluster)\n",
    "    kmeans.fit(scaled_df)\n",
    "    inertias.append(kmeans.inertia_)\n",
    "    print(\"Inertia\",cluster,\"is Done\")"
   ]
  },
  {
   "cell_type": "code",
   "execution_count": 19,
   "id": "757b2cce",
   "metadata": {},
   "outputs": [
    {
     "name": "stdout",
     "output_type": "stream",
     "text": [
      "[1145598.0000000002, 944620.4879980213, 833189.835514712, 757105.1372175596, 701855.599524803, 660766.065844349, 621175.7966590136, 589652.0870446172, 559541.0175728451, 533721.9416400897, 508608.22558248695, 489322.65078762406, 469758.50736622914, 454183.61242478795, 438751.60391558724, 423218.6507657984, 410516.37791395595, 398070.2037032597, 389019.64862946374]\n"
     ]
    }
   ],
   "source": [
    "#Make dataframe from different inertias\n",
    "#frame = pd.DataFrame({\"Clusters\":range(1,20), \"Inertias\": inertias})\n",
    "print(inertias)"
   ]
  },
  {
   "cell_type": "code",
   "execution_count": 17,
   "id": "07d1402e",
   "metadata": {},
   "outputs": [
    {
     "data": {
      "text/plain": [
       "<AxesSubplot:xlabel='Clusters', ylabel='Inertias'>"
      ]
     },
     "execution_count": 17,
     "metadata": {},
     "output_type": "execute_result"
    },
    {
     "data": {
      "image/png": "[encoded data removed]",
      "text/plain": [
       "<Figure size 640x480 with 1 Axes>"
      ]
     },
     "metadata": {},
     "output_type": "display_data"
    }
   ],
   "source": [
    "#3 View it\n",
    "\n",
    "import seaborn as sns\n",
    "sns.lineplot(data=frame, x=\"Clusters\", y=\"Inertias\")"
   ]
  },
  {
   "cell_type": "code",
   "execution_count": 18,
   "id": "49638c64",
   "metadata": {},
   "outputs": [],
   "source": [
    "#\n",
    "kmeans = KMeans(n_clusters=6)\n",
    "kmeans.fit(scaled_df)\n",
    "predictions = kmeans.predict(scaled_df)\n",
    "\n",
    "#get the centers\n",
    "centers = kmeans.cluster_centers_\n",
    "unscaled_centers = scaler.inverse_transform(centers)"
   ]
  },
  {
   "cell_type": "code",
   "execution_count": null,
   "id": "c70c9fc1",
   "metadata": {},
   "outputs": [],
   "source": [
    "finalinertias=[1145598.0000000002, 944620.4879980213, 833189.835514712, 757105.1372175596, 701855.599524803, 660766.065844349, 621175.7966590136, 589652.0870446172, 559541.0175728451, 533721.9416400897, 508608.22558248695, 489322.65078762406, 469758.50736622914, 454183.61242478795, 438751.60391558724, 423218.6507657984, 410516.37791395595, 398070.2037032597, 389019.64862946374]"
   ]
  }
 ],
 "metadata": {
  "kernelspec": {
   "display_name": "Python 3 (ipykernel)",
   "language": "python",
   "name": "python3"
  },
  "language_info": {
   "codemirror_mode": {
    "name": "ipython",
    "version": 3
   },
   "file_extension": ".py",
   "mimetype": "text/x-python",
   "name": "python",
   "nbconvert_exporter": "python",
   "pygments_lexer": "ipython3",
   "version": "3.9.13"
  }
 },
 "nbformat": 4,
 "nbformat_minor": 5
}
