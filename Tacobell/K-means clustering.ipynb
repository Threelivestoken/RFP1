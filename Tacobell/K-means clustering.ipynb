{
 "cells": [
  {
   "cell_type": "code",
   "execution_count": 2,
   "id": "6cb4e198",
   "metadata": {},
   "outputs": [],
   "source": [
    "import pandas as pd\n",
    "from sklearn.model_selection import train_test_split\n"
   ]
  },
  {
   "cell_type": "code",
   "execution_count": 3,
   "id": "aded82a6",
   "metadata": {},
   "outputs": [],
   "source": [
    "#Wrangling----------------------------------------------------------------------------------------------------------------------"
   ]
  },
  {
   "cell_type": "code",
   "execution_count": 4,
   "id": "9b38a5a3",
   "metadata": {},
   "outputs": [],
   "source": [
    "#1Merge datasets\n",
    "\n",
    "# Load the datasets\n",
    "customer_profiles = pd.read_csv(\"customer_profiles.csv\")\n",
    "ad_events = pd.read_csv(\"ad_events.csv\")\n",
    "\n",
    "# Merge the datasets on the 'id' and 'customer' columns using left join\n",
    "merged_data = pd.merge(customer_profiles, ad_events, left_on='id', right_on='customer', how='left')\n",
    "\n",
    "# For non-matching rows, fill in NaN values with the corresponding 'id' or 'customer' value\n",
    "merged_data['customer'].fillna(merged_data['id'], inplace=True)\n",
    "merged_data['id'].fillna(merged_data['customer'], inplace=True)\n",
    "\n",
    "\n",
    "dfO=merged_data\n"
   ]
  },
  {
   "cell_type": "code",
   "execution_count": 5,
   "id": "f4f14d08",
   "metadata": {},
   "outputs": [],
   "source": [
    "#2 Split data into testing and training\n",
    "#df0=dfO\n",
    "#--------------------------------------------------------------------------------------------------------------------------\n",
    "\n",
    "\n",
    "# Assuming dfO is your original dataframe\n",
    "train_df, test_df = train_test_split(dfO, test_size=0.3, random_state=42)\n",
    "\n",
    "# train_df will contain 70% of the data\n",
    "# test_df will contain 30% of the data"
   ]
  },
  {
   "cell_type": "code",
   "execution_count": 6,
   "id": "35a4ad92",
   "metadata": {},
   "outputs": [],
   "source": [
    "#len(train_df)"
   ]
  },
  {
   "cell_type": "code",
   "execution_count": 7,
   "id": "68dc9ff4",
   "metadata": {
    "scrolled": true
   },
   "outputs": [
    {
     "name": "stdout",
     "output_type": "stream",
     "text": [
      "0.5790270890798996\n"
     ]
    }
   ],
   "source": [
    "#split numerical parts of dataframe\n",
    "df = pd.DataFrame((((train_df.drop('id', axis=1)).drop('home_state', axis=1)).drop('event', axis=1)).drop('event_info', axis=1))\n",
    "\n",
    "# Make float dataset\n",
    "df1 = {}\n",
    "\n",
    "# Extract year, month, and day from \"became_member_on (year month day)\"\n",
    "df1[\"year\"] = df[\"became_member_on (year month day)\"].apply(lambda x: float(str(x)[:4]) if pd.notnull(x) and len(str(x)) == 10 else 0)\n",
    "df1[\"month\"] = df[\"became_member_on (year month day)\"].apply(lambda x: float(str(x)[4:6]) if pd.notnull(x) and len(str(x)) == 10 else 0)\n",
    "df1[\"day\"] = df[\"became_member_on (year month day)\"].apply(lambda x: float(str(x)[6:8]) if pd.notnull(x) and len(str(x)) == 10 else 0)\n",
    "\n",
    "# Other columns\n",
    "df1[\"gender\"] = df[\"gender\"].map({'F': 0.0, 'M': 1.0}).fillna(0.5790270890798996)\n",
    "df1[\"ever_married\"] = df[\"ever_married\"].map({'No': 0.0, 'Yes': 1.0}).fillna(0.5247599943435656)\n",
    "df1[\"time\"] = df[\"time\"].apply(lambda x: float(x) if pd.notnull(x) else 366.6747497813369)\n",
    "df1[\"age\"] = df[\"age\"].apply(lambda x: float(x) if pd.notnull(x) else 53.81169310700612)\n",
    "df1[\"income\"] = df[\"income\"].apply(lambda x: float(x) if pd.notnull(x) else 64304.72993144192)\n",
    "df1[\"kids\"] = df[\"kids\"].apply(lambda x: float(x) if pd.notnull(x) else 1.692206166561045)\n",
    "\n",
    "# Create a new DataFrame\n",
    "df = (pd.DataFrame(df1))\n",
    "print((df[\"gender\"]).mean())"
   ]
  },
  {
   "cell_type": "code",
   "execution_count": null,
   "id": "6f16aaf0",
   "metadata": {},
   "outputs": [],
   "source": [
    "#choose what things too look at\n"
   ]
  },
  {
   "cell_type": "code",
   "execution_count": 8,
   "id": "c939be95",
   "metadata": {
    "scrolled": true
   },
   "outputs": [
    {
     "data": {
      "text/html": [
       "<div>\n",
       "<style scoped>\n",
       "    .dataframe tbody tr th:only-of-type {\n",
       "        vertical-align: middle;\n",
       "    }\n",
       "\n",
       "    .dataframe tbody tr th {\n",
       "        vertical-align: top;\n",
       "    }\n",
       "\n",
       "    .dataframe thead th {\n",
       "        text-align: right;\n",
       "    }\n",
       "</style>\n",
       "<table border=\"1\" class=\"dataframe\">\n",
       "  <thead>\n",
       "    <tr style=\"text-align: right;\">\n",
       "      <th></th>\n",
       "      <th>year</th>\n",
       "      <th>month</th>\n",
       "      <th>day</th>\n",
       "      <th>gender</th>\n",
       "      <th>ever_married</th>\n",
       "      <th>time</th>\n",
       "      <th>age</th>\n",
       "      <th>income</th>\n",
       "      <th>kids</th>\n",
       "    </tr>\n",
       "  </thead>\n",
       "  <tbody>\n",
       "    <tr>\n",
       "      <th>28019</th>\n",
       "      <td>0</td>\n",
       "      <td>0</td>\n",
       "      <td>0</td>\n",
       "      <td>0.0</td>\n",
       "      <td>0.0</td>\n",
       "      <td>336.0</td>\n",
       "      <td>81.0</td>\n",
       "      <td>52000.0</td>\n",
       "      <td>0.0</td>\n",
       "    </tr>\n",
       "    <tr>\n",
       "      <th>106711</th>\n",
       "      <td>0</td>\n",
       "      <td>0</td>\n",
       "      <td>0</td>\n",
       "      <td>1.0</td>\n",
       "      <td>0.0</td>\n",
       "      <td>600.0</td>\n",
       "      <td>52.0</td>\n",
       "      <td>97000.0</td>\n",
       "      <td>2.0</td>\n",
       "    </tr>\n",
       "    <tr>\n",
       "      <th>218556</th>\n",
       "      <td>0</td>\n",
       "      <td>0</td>\n",
       "      <td>0</td>\n",
       "      <td>0.0</td>\n",
       "      <td>1.0</td>\n",
       "      <td>108.0</td>\n",
       "      <td>77.0</td>\n",
       "      <td>92000.0</td>\n",
       "      <td>3.0</td>\n",
       "    </tr>\n",
       "    <tr>\n",
       "      <th>272639</th>\n",
       "      <td>0</td>\n",
       "      <td>0</td>\n",
       "      <td>0</td>\n",
       "      <td>0.0</td>\n",
       "      <td>0.0</td>\n",
       "      <td>60.0</td>\n",
       "      <td>70.0</td>\n",
       "      <td>39000.0</td>\n",
       "      <td>0.0</td>\n",
       "    </tr>\n",
       "    <tr>\n",
       "      <th>42512</th>\n",
       "      <td>0</td>\n",
       "      <td>0</td>\n",
       "      <td>0</td>\n",
       "      <td>1.0</td>\n",
       "      <td>0.0</td>\n",
       "      <td>336.0</td>\n",
       "      <td>51.0</td>\n",
       "      <td>57000.0</td>\n",
       "      <td>0.0</td>\n",
       "    </tr>\n",
       "  </tbody>\n",
       "</table>\n",
       "</div>"
      ],
      "text/plain": [
       "        year  month  day  gender  ever_married   time   age   income  kids\n",
       "28019      0      0    0     0.0           0.0  336.0  81.0  52000.0   0.0\n",
       "106711     0      0    0     1.0           0.0  600.0  52.0  97000.0   2.0\n",
       "218556     0      0    0     0.0           1.0  108.0  77.0  92000.0   3.0\n",
       "272639     0      0    0     0.0           0.0   60.0  70.0  39000.0   0.0\n",
       "42512      0      0    0     1.0           0.0  336.0  51.0  57000.0   0.0"
      ]
     },
     "execution_count": 8,
     "metadata": {},
     "output_type": "execute_result"
    }
   ],
   "source": [
    "#df.info()\n",
    "df.head()"
   ]
  },
  {
   "cell_type": "code",
   "execution_count": null,
   "id": "a5eaa890",
   "metadata": {},
   "outputs": [],
   "source": []
  },
  {
   "cell_type": "code",
   "execution_count": null,
   "id": "b7a07cf9",
   "metadata": {},
   "outputs": [],
   "source": [
    "#KMeans--------------------------------------------------------------------------------------------------------------------"
   ]
  },
  {
   "cell_type": "code",
   "execution_count": null,
   "id": "1fc5ea77",
   "metadata": {},
   "outputs": [],
   "source": [
    "#1get data\n",
    "#df = pd.read_csv(\"demo.csv\")\n",
    "df.describe()"
   ]
  },
  {
   "cell_type": "code",
   "execution_count": null,
   "id": "87006f00",
   "metadata": {},
   "outputs": [],
   "source": [
    "# Import stuff needed\n",
    "from sklearn.preprocessing import StandardScaler\n",
    "scaler = StandardScaler()\n",
    "from sklearn.cluster import KMeans"
   ]
  },
  {
   "cell_type": "code",
   "execution_count": null,
   "id": "21c4b30e",
   "metadata": {},
   "outputs": [],
   "source": [
    "#Scale down data\n",
    "scaled_df = pd.DataFrame(scaler.fit_transform(df))"
   ]
  },
  {
   "cell_type": "code",
   "execution_count": null,
   "id": "c63ae99c",
   "metadata": {},
   "outputs": [],
   "source": [
    "#make inertias stuff\n",
    "inertias = []\n",
    "for cluster in range(1,20):\n",
    "    kmeans = KMeans(n_clusters=cluster)\n",
    "    kmeans.fit(scaled_df)\n",
    "    inertias.append(kmeans.inertia_)"
   ]
  },
  {
   "cell_type": "code",
   "execution_count": null,
   "id": "757b2cce",
   "metadata": {},
   "outputs": [],
   "source": [
    "#Make dataframe from different inertias\n",
    "frame = pd.DataFrame({\"Clusters\":range(1,20), \"Inertias\": inertias})"
   ]
  },
  {
   "cell_type": "code",
   "execution_count": null,
   "id": "07d1402e",
   "metadata": {},
   "outputs": [],
   "source": [
    "#3 View it\n",
    "\n",
    "import seaborn as sns\n",
    "sns.lineplot(data=frame, x=\"Clusters\", y=\"Inertias\")"
   ]
  },
  {
   "cell_type": "code",
   "execution_count": null,
   "id": "49638c64",
   "metadata": {},
   "outputs": [],
   "source": [
    "#\n",
    "kmeans = KMeans(n_clusters=6)\n",
    "kmeans.fit(scaled_df)\n",
    "predictions = kmeans.predict(scaled_df)\n",
    "\n",
    "#get the centers\n",
    "centers = kmeans.cluster_centers_\n",
    "unscaled_centers = scaler.inverse_transform(centers)"
   ]
  },
  {
   "cell_type": "code",
   "execution_count": null,
   "id": "c70c9fc1",
   "metadata": {},
   "outputs": [],
   "source": []
  }
 ],
 "metadata": {
  "kernelspec": {
   "display_name": "Python 3 (ipykernel)",
   "language": "python",
   "name": "python3"
  },
  "language_info": {
   "codemirror_mode": {
    "name": "ipython",
    "version": 3
   },
   "file_extension": ".py",
   "mimetype": "text/x-python",
   "name": "python",
   "nbconvert_exporter": "python",
   "pygments_lexer": "ipython3",
   "version": "3.9.13"
  }
 },
 "nbformat": 4,
 "nbformat_minor": 5
}
