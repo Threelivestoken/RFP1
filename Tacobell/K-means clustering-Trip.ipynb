{
 "cells": [
  {
   "cell_type": "code",
   "execution_count": null,
   "id": "6cb4e198",
   "metadata": {},
   "outputs": [],
   "source": [
    "import pandas as pd\n",
    "from sklearn.model_selection import train_test_split\n"
   ]
  },
  {
   "cell_type": "code",
   "execution_count": null,
   "id": "aded82a6",
   "metadata": {},
   "outputs": [],
   "source": [
    "#Wrangling----------------------------------------------------------------------------------------------------------------------"
   ]
  },
  {
   "cell_type": "code",
   "execution_count": null,
   "id": "9b38a5a3",
   "metadata": {},
   "outputs": [],
   "source": [
    "#1Merge datasets\n",
    "\n",
    "# Load the datasets\n",
    "customer_profiles = pd.read_csv(\"customer_profiles.csv\")\n",
    "ad_events = pd.read_csv(\"ad_events.csv\")\n",
    "\n",
    "# Merge the datasets on the 'id' and 'customer' columns using left join\n",
    "merged_data = pd.merge(customer_profiles, ad_events, left_on='id', right_on='customer', how='left')\n",
    "\n",
    "# For non-matching rows, fill in NaN values with the corresponding 'id' or 'customer' value\n",
    "merged_data['customer'].fillna(merged_data['id'], inplace=True)\n",
    "merged_data['id'].fillna(merged_data['customer'], inplace=True)\n",
    "\n",
    "\n",
    "dfO=merged_data\n"
   ]
  },
  {
   "cell_type": "code",
   "execution_count": null,
   "id": "f4f14d08",
   "metadata": {},
   "outputs": [],
   "source": [
    "#2 Split data into testing and training\n",
    "#df0=dfO\n",
    "#--------------------------------------------------------------------------------------------------------------------------\n",
    "\n",
    "\n",
    "# Assuming dfO is your original dataframe\n",
    "train_df, test_df = train_test_split(dfO, test_size=0.3, random_state=42)\n",
    "\n",
    "# train_df will contain 70% of the data\n",
    "# test_df will contain 30% of the data"
   ]
  },
  {
   "cell_type": "code",
   "execution_count": null,
   "id": "35a4ad92",
   "metadata": {},
   "outputs": [],
   "source": [
    "#len(train_df)"
   ]
  },
  {
   "cell_type": "code",
   "execution_count": null,
   "id": "68dc9ff4",
   "metadata": {
    "scrolled": true
   },
   "outputs": [],
   "source": [
    "#split numerical parts of dataframe\n",
    "df = pd.DataFrame((((train_df.drop('id', axis=1)).drop('home_state', axis=1)).drop('event', axis=1)).drop('event_info', axis=1))\n",
    "\n",
    "# Make float dataset\n",
    "df1 = {}\n",
    "\n",
    "# Extract year, month, and day from \"became_member_on (year month day)\"\n",
    "df1[\"year\"] = df[\"became_member_on (year month day)\"].apply(lambda x: float(str(x)[:4]) if pd.notnull(x) and len(str(x)) == 10 else 0)\n",
    "df1[\"month\"] = df[\"became_member_on (year month day)\"].apply(lambda x: float(str(x)[4:6]) if pd.notnull(x) and len(str(x)) == 10 else 0)\n",
    "df1[\"day\"] = df[\"became_member_on (year month day)\"].apply(lambda x: float(str(x)[6:8]) if pd.notnull(x) and len(str(x)) == 10 else 0)\n",
    "\n",
    "# Other columns\n",
    "df1[\"gender\"] = df[\"gender\"].map({'F': 0.0, 'M': 1.0}).fillna(0.5790270890798996)\n",
    "df1[\"ever_married\"] = df[\"ever_married\"].map({'No': 0.0, 'Yes': 1.0}).fillna(0.5247599943435656)\n",
    "df1[\"time\"] = df[\"time\"].apply(lambda x: float(x) if pd.notnull(x) else 366.6747497813369)\n",
    "df1[\"age\"] = df[\"age\"].apply(lambda x: float(x) if pd.notnull(x) else 53.81169310700612)\n",
    "df1[\"income\"] = df[\"income\"].apply(lambda x: float(x) if pd.notnull(x) else 64304.72993144192)\n",
    "df1[\"kids\"] = df[\"kids\"].apply(lambda x: float(x) if pd.notnull(x) else 1.692206166561045)\n",
    "\n",
    "# Create a new DataFrame\n",
    "df = (pd.DataFrame(df1))\n",
    "print((df[\"gender\"]).mean())"
   ]
  },
  {
   "cell_type": "code",
   "execution_count": null,
   "id": "6f16aaf0",
   "metadata": {},
   "outputs": [],
   "source": []
  },
  {
   "cell_type": "code",
   "execution_count": null,
   "id": "c939be95",
   "metadata": {
    "scrolled": true
   },
   "outputs": [],
   "source": [
    "#df.info()\n",
    "df.head()"
   ]
  },
  {
   "cell_type": "code",
   "execution_count": null,
   "id": "a5eaa890",
   "metadata": {},
   "outputs": [],
   "source": []
  },
  {
   "cell_type": "code",
   "execution_count": null,
   "id": "b7a07cf9",
   "metadata": {},
   "outputs": [],
   "source": [
    "#KMeans--------------------------------------------------------------------------------------------------------------------"
   ]
  },
  {
   "cell_type": "code",
   "execution_count": null,
   "id": "1fc5ea77",
   "metadata": {},
   "outputs": [],
   "source": [
    "#1get data\n",
    "#df = pd.read_csv(\"demo.csv\")\n",
    "df.describe()"
   ]
  },
  {
   "cell_type": "code",
   "execution_count": null,
   "id": "87006f00",
   "metadata": {},
   "outputs": [],
   "source": [
    "# Import stuff needed\n",
    "from sklearn.preprocessing import StandardScaler\n",
    "scaler = StandardScaler()\n",
    "from sklearn.cluster import KMeans"
   ]
  },
  {
   "cell_type": "code",
   "execution_count": null,
   "id": "21c4b30e",
   "metadata": {},
   "outputs": [],
   "source": [
    "#Scale down data\n",
    "scaled_df = pd.DataFrame(scaler.fit_transform(df))"
   ]
  },
  {
   "cell_type": "code",
   "execution_count": null,
   "id": "c63ae99c",
   "metadata": {},
   "outputs": [],
   "source": [
    "#make inertias stuff\n",
    "inertias = []\n",
    "\n",
    "for cluster in range(1,20):\n",
    "    kmeans = KMeans(n_clusters=cluster)\n",
    "    kmeans.fit(scaled_df)\n",
    "    inertias.append(kmeans.inertia_)\n",
    "    print(\"Inertia\",cluster,\"is Done with a value of\", inertias[len(inertias)-1])\n",
    "print(inertias)"
   ]
  },
  {
   "cell_type": "code",
   "execution_count": null,
   "id": "21934474",
   "metadata": {},
   "outputs": [],
   "source": []
  },
  {
   "cell_type": "code",
   "execution_count": null,
   "id": "e5c1c0a9",
   "metadata": {},
   "outputs": [],
   "source": [
    "#Make dataframe from different inertias\n",
    "#inertias=[1145598.0000000002, 944620.4879980213, 833189.835514712, 757105.1372175596, 701855.599524803, 660766.065844349, 621175.7966590136, 589652.0870446172, 559541.0175728451, 533721.9416400897, 508608.22558248695, 489322.65078762406, 469758.50736622914, 454183.61242478795, 438751.60391558724, 423218.6507657984, 410516.37791395595, 398070.2037032597, 389019.64862946374,378650.11186597566, 369663.61030112446, 359150.9304597364, 352067.6304229872, 343174.15143631457, 336562.8989989955, 328411.42419330816, 322348.4715293704, 315991.59804975474, 309112.8822062926]\n",
    "#[304673.39973046177, 297819.53280959785, 293304.73362911626, 286961.97868700855, 283192.5629138535, 278601.29181489075, 274371.4614720637, 270234.4773811805, 266364.3180101956, 263757.228360014]\n",
    "\n",
    "\n",
    "frame = pd.DataFrame({\"Clusters\":range(1,20), \"Inertias\": inertias})\n",
    "#print(inertias)\n",
    "\n"
   ]
  },
  {
   "cell_type": "code",
   "execution_count": null,
   "id": "1fdc0ffa",
   "metadata": {},
   "outputs": [],
   "source": [
    "#3 View it\n",
    "import seaborn as sns\n",
    "sns.lineplot(data=frame, x=\"Clusters\", y=\"Inertias\")"
   ]
  },
  {
   "cell_type": "code",
   "execution_count": null,
   "id": "49638c64",
   "metadata": {},
   "outputs": [],
   "source": [
    "#\n",
    "kmeans = KMeans(n_clusters=6)\n",
    "kmeans.fit(scaled_df)\n",
    "predictions = kmeans.predict(scaled_df)\n",
    "\n",
    "#get the centers\n",
    "centers = kmeans.cluster_centers_\n",
    "unscaled_centers = scaler.inverse_transform(centers)"
   ]
  },
  {
   "cell_type": "code",
   "execution_count": null,
   "id": "c70c9fc1",
   "metadata": {},
   "outputs": [],
   "source": []
  }
 ],
 "metadata": {
  "kernelspec": {
   "display_name": "Python 3 (ipykernel)",
   "language": "python",
   "name": "python3"
  },
  "language_info": {
   "codemirror_mode": {
    "name": "ipython",
    "version": 3
   },
   "file_extension": ".py",
   "mimetype": "text/x-python",
   "name": "python",
   "nbconvert_exporter": "python",
   "pygments_lexer": "ipython3",
   "version": "3.9.13"
  }
 },
 "nbformat": 4,
 "nbformat_minor": 5
}
