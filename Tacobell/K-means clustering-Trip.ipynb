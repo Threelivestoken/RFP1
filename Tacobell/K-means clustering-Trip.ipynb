{
 "cells": [
  {
   "cell_type": "code",
   "execution_count": 1,
   "id": "6cb4e198",
   "metadata": {},
   "outputs": [],
   "source": [
    "import pandas as pd\n",
    "from sklearn.model_selection import train_test_split\n"
   ]
  },
  {
   "cell_type": "code",
   "execution_count": 2,
   "id": "aded82a6",
   "metadata": {},
   "outputs": [],
   "source": [
    "#Wrangling----------------------------------------------------------------------------------------------------------------------"
   ]
  },
  {
   "cell_type": "code",
   "execution_count": 3,
   "id": "9b38a5a3",
   "metadata": {},
   "outputs": [],
   "source": [
    "#1Merge datasets\n",
    "\n",
    "# Load the datasets\n",
    "customer_profiles = pd.read_csv(\"customer_profiles.csv\")\n",
    "ad_events = pd.read_csv(\"ad_events.csv\")\n",
    "\n",
    "# Merge the datasets on the 'id' and 'customer' columns using left join\n",
    "merged_data = pd.merge(customer_profiles, ad_events, left_on='id', right_on='customer', how='left')\n",
    "\n",
    "# For non-matching rows, fill in NaN values with the corresponding 'id' or 'customer' value\n",
    "merged_data['customer'].fillna(merged_data['id'], inplace=True)\n",
    "merged_data['id'].fillna(merged_data['customer'], inplace=True)\n",
    "\n",
    "\n",
    "dfO=merged_data\n"
   ]
  },
  {
   "cell_type": "code",
   "execution_count": 26,
   "id": "bea809d6",
   "metadata": {},
   "outputs": [
    {
     "name": "stdout",
     "output_type": "stream",
     "text": [
      "0.0\n"
     ]
    }
   ],
   "source": [
    "#split numerical parts of dataframe\n",
    "df = pd.DataFrame((((dfO.drop('id', axis=1)).drop('home_state', axis=1)).drop('event', axis=1)).drop('event_info', axis=1))\n",
    "\n",
    "# Make float dataset\n",
    "df1 = {}\n",
    "\n",
    "# Extract year, month, and day from \"became_member_on (year month day)\"\n",
    "df1[\"year\"] = df[\"became_member_on (year month day)\"].apply(lambda x: float(str(x)[:4]) if pd.notnull(x) and len(str(x)) == 5 else 0)\n",
    "df1[\"month\"] = df[\"became_member_on (year month day)\"].apply(lambda x: float(str(x)[4:6]) if pd.notnull(x) and len(str(x)) == 3 else 0)\n",
    "df1[\"day\"] = df[\"became_member_on (year month day)\"].apply(lambda x: float(str(x)[6:8]) if pd.notnull(x) and len(str(x)) == 3 else 0)\n",
    "\n",
    "# Other columns\n",
    "df1[\"gender\"] = df[\"gender\"].map({'F': 0.0, 'M': 1.0}).fillna(0.5790270890798996)\n",
    "df1[\"ever_married\"] = df[\"ever_married\"].map({'No': 0.0, 'Yes': 1.0}).fillna(0.5247599943435656)\n",
    "df1[\"time\"] = df[\"time\"].apply(lambda x: float(x) if pd.notnull(x) else 366.6747497813369)\n",
    "df1[\"age\"] = df[\"age\"].apply(lambda x: float(x) if pd.notnull(x) else 53.81169310700612)\n",
    "df1[\"income\"] = df[\"income\"].apply(lambda x: float(x) if pd.notnull(x) else 64304.72993144192)\n",
    "df1[\"kids\"] = df[\"kids\"].apply(lambda x: float(x) if pd.notnull(x) else 1.692206166561045)\n",
    "\n",
    "# Create a new DataFrame\n",
    "df = (pd.DataFrame(df1))\n",
    "print((df[\"year\"]).mean())\n",
    "df=(((df.drop('year', axis=1)).drop('month', axis=1)).drop('day', axis=1))"
   ]
  },
  {
   "cell_type": "code",
   "execution_count": 28,
   "id": "1e58427e",
   "metadata": {},
   "outputs": [],
   "source": [
    "# Import stuff needed\n",
    "from sklearn.preprocessing import StandardScaler\n",
    "scaler = StandardScaler()\n",
    "from sklearn.cluster import KMeans\n",
    "#Scale down data\n",
    "scaled_df = pd.DataFrame(scaler.fit_transform(df))"
   ]
  },
  {
   "cell_type": "code",
   "execution_count": 6,
   "id": "f4f14d08",
   "metadata": {},
   "outputs": [],
   "source": [
    "#2 Split data into testing and training\n",
    "#df0=dfO\n",
    "#--------------------------------------------------------------------------------------------------------------------------\n",
    "\n",
    "\n",
    "# Assuming dfO is your original dataframe\n",
    "#train_df, test_df = train_test_split(df, test_size=0.5, random_state=42)\n",
    "\n",
    "# train_df will contain 70% of the data\n",
    "# test_df will contain 30% of the data"
   ]
  },
  {
   "cell_type": "code",
   "execution_count": 7,
   "id": "35a4ad92",
   "metadata": {},
   "outputs": [],
   "source": [
    "#len(train_df)"
   ]
  },
  {
   "cell_type": "code",
   "execution_count": null,
   "id": "68dc9ff4",
   "metadata": {
    "scrolled": true
   },
   "outputs": [],
   "source": []
  },
  {
   "cell_type": "code",
   "execution_count": null,
   "id": "6f16aaf0",
   "metadata": {},
   "outputs": [],
   "source": []
  },
  {
   "cell_type": "code",
   "execution_count": 8,
   "id": "c939be95",
   "metadata": {
    "scrolled": true
   },
   "outputs": [
    {
     "ename": "NameError",
     "evalue": "name 'train_df' is not defined",
     "output_type": "error",
     "traceback": [
      "\u001b[1;31m---------------------------------------------------------------------------\u001b[0m",
      "\u001b[1;31mNameError\u001b[0m                                 Traceback (most recent call last)",
      "\u001b[1;32m~\\AppData\\Local\\Temp\\ipykernel_7508\\737609527.py\u001b[0m in \u001b[0;36m<module>\u001b[1;34m\u001b[0m\n\u001b[0;32m      1\u001b[0m \u001b[1;31m#df.info()\u001b[0m\u001b[1;33m\u001b[0m\u001b[1;33m\u001b[0m\u001b[0m\n\u001b[1;32m----> 2\u001b[1;33m \u001b[0mtrain_df\u001b[0m\u001b[1;33m.\u001b[0m\u001b[0mhead\u001b[0m\u001b[1;33m(\u001b[0m\u001b[1;33m)\u001b[0m\u001b[1;33m\u001b[0m\u001b[1;33m\u001b[0m\u001b[0m\n\u001b[0m",
      "\u001b[1;31mNameError\u001b[0m: name 'train_df' is not defined"
     ]
    }
   ],
   "source": [
    "#df.info()\n",
    "train_df.head()"
   ]
  },
  {
   "cell_type": "code",
   "execution_count": null,
   "id": "a5eaa890",
   "metadata": {},
   "outputs": [],
   "source": []
  },
  {
   "cell_type": "code",
   "execution_count": null,
   "id": "b7a07cf9",
   "metadata": {},
   "outputs": [],
   "source": [
    "#KMeans--------------------------------------------------------------------------------------------------------------------"
   ]
  },
  {
   "cell_type": "code",
   "execution_count": null,
   "id": "1fc5ea77",
   "metadata": {},
   "outputs": [],
   "source": [
    "#1get data\n",
    "#df = pd.read_csv(\"demo.csv\")\n",
    "train_df.describe()"
   ]
  },
  {
   "cell_type": "code",
   "execution_count": null,
   "id": "87006f00",
   "metadata": {},
   "outputs": [],
   "source": []
  },
  {
   "cell_type": "code",
   "execution_count": null,
   "id": "21c4b30e",
   "metadata": {},
   "outputs": [],
   "source": []
  },
  {
   "cell_type": "code",
   "execution_count": 29,
   "id": "c63ae99c",
   "metadata": {},
   "outputs": [
    {
     "name": "stdout",
     "output_type": "stream",
     "text": [
      "Inertia 1 is Done with a value of 1636571.999999999\n",
      "Inertia 2 is Done with a value of 1349318.5385060804\n",
      "Inertia 3 is Done with a value of 1193671.2600598012\n",
      "Inertia 4 is Done with a value of 1076446.485119152\n",
      "Inertia 5 is Done with a value of 1002802.7290814307\n",
      "Inertia 6 is Done with a value of 937470.8718728588\n",
      "Inertia 7 is Done with a value of 887318.8445835501\n",
      "Inertia 8 is Done with a value of 843112.7423637251\n",
      "Inertia 9 is Done with a value of 802160.6466165627\n",
      "[1636571.999999999, 1349318.5385060804, 1193671.2600598012, 1076446.485119152, 1002802.7290814307, 937470.8718728588, 887318.8445835501, 843112.7423637251, 802160.6466165627]\n"
     ]
    }
   ],
   "source": [
    "#make inertias stuff\n",
    "inertias = []\n",
    "\n",
    "for cluster in range(1,10):\n",
    "    kmeans = KMeans(n_clusters=cluster)\n",
    "    kmeans.fit(scaled_df)\n",
    "    inertias.append(kmeans.inertia_)\n",
    "    print(\"Inertia\",cluster,\"is Done with a value of\", inertias[len(inertias)-1])\n",
    "print(inertias)"
   ]
  },
  {
   "cell_type": "code",
   "execution_count": null,
   "id": "21934474",
   "metadata": {},
   "outputs": [],
   "source": []
  },
  {
   "cell_type": "code",
   "execution_count": 30,
   "id": "e5c1c0a9",
   "metadata": {},
   "outputs": [],
   "source": [
    "#Make dataframe from different inertias\n",
    "#inertias=[1145598.0000000002, 944620.615710496, 833189.835514712, 757108.9124547339, 705390.8667514288, 662314.7893677704, 621151.4441061104, 591918.6666079389, 560450.2019474326]\n",
    "#inertias=[1145598.0000000002, 954622.2228949122, 835828.6630763641, 753611.8224013351, 701858.3005560208, 661857.8963748092, 620916.0137849337, 588766.298946556, 561778.2266748617, 534038.7886788611, 508781.5868788475, 490211.7670320037, 470012.3588045053, 452270.20359596284, 438666.42648994265, 424281.97625126934, 411107.16252809006, 400712.1966292795, 389277.148592346]\n",
    "#[1145598.0000000002, 944620.4879980213, 833189.835514712, 757105.1372175596, 1855.599524803, 660766.065844349, 621175.7966590136, 589652.0870446172, 559541.0175728451, 533721.9416400897, 508608.22558248695, 489322.65078762406, 469758.50736622914, 454183.61242478795, 438751.60391558724, 423218.6507657984, 410516.37791395595, 398070.2037032597, 389019.64862946374,378650.11186597566, 369663.61030112446, 359150.9304597364, 352067.6304229872, 343174.15143631457, 336562.8989989955, 328411.42419330816, 322348.4715293704, 315991.59804975474, 309112.8822062926,304673.39973046177, 297819.53280959785, 293304.73362911626, 286961.97868700855, 283192.5629138535, 278601.29181489075, 274371.4614720637, 270234.4773811805, 266364.3180101956, 263757.228360014]\n",
    "\n",
    "\n",
    "frame = pd.DataFrame({\"Clusters\":range(1,10), \"Inertias\": inertias})\n",
    "#print(inertias)\n",
    "\n"
   ]
  },
  {
   "cell_type": "code",
   "execution_count": 31,
   "id": "1fdc0ffa",
   "metadata": {},
   "outputs": [
    {
     "data": {
      "text/plain": [
       "<AxesSubplot:xlabel='Clusters', ylabel='Inertias'>"
      ]
     },
     "execution_count": 31,
     "metadata": {},
     "output_type": "execute_result"
    },
    {
     "data": {
      "image/png": "[encoded data removed]",
      "text/plain": [
       "<Figure size 640x480 with 1 Axes>"
      ]
     },
     "metadata": {},
     "output_type": "display_data"
    }
   ],
   "source": [
    "#3 View it\n",
    "import seaborn as sns\n",
    "sns.lineplot(data=frame, x=\"Clusters\", y=\"Inertias\")"
   ]
  },
  {
   "cell_type": "code",
   "execution_count": 32,
   "id": "49638c64",
   "metadata": {},
   "outputs": [],
   "source": [
    "# official algorithm\n",
    "kmeans = KMeans(n_clusters=4)\n",
    "kmeans.fit(scaled_df)\n",
    "predictions = kmeans.predict(scaled_df)\n",
    "\n",
    "#get the centers\n",
    "centers = kmeans.cluster_centers_\n",
    "unscaled_centers = scaler.inverse_transform(centers)"
   ]
  },
  {
   "cell_type": "code",
   "execution_count": null,
   "id": "fc2d19ea",
   "metadata": {},
   "outputs": [],
   "source": [
    "#test\n",
    "y_pred=predictions\n",
    "from sklearn.metrics import silhouette_score\n",
    "\n",
    "silhouette_avg = silhouette_score(scaled_df, y_pred)\n",
    "print(f\"Silhouette Score: {silhouette_avg}\")"
   ]
  },
  {
   "cell_type": "code",
   "execution_count": 34,
   "id": "c70c9fc1",
   "metadata": {},
   "outputs": [
    {
     "name": "stdout",
     "output_type": "stream",
     "text": [
      "Cluster 0: 71826 points\n",
      "Cluster 1: 60836 points\n",
      "Cluster 2: 79383 points\n",
      "Cluster 3: 60717 points\n"
     ]
    }
   ],
   "source": [
    "import numpy as np\n",
    "#get the amount in each catagory\n",
    "labels = kmeans.labels_\n",
    "\n",
    "# Count the number of points in each cluster\n",
    "unique_labels, counts = np.unique(labels, return_counts=True)\n",
    "\n",
    "# Display the result\n",
    "for cluster, count in zip(unique_labels, counts):\n",
    "    print(f\"Cluster {cluster}: {count} points\")\n",
    "\n",
    "# If you want to see the labels assigned to each data point\n",
    "#print(\"Labels assigned to each data point:\", labels)"
   ]
  },
  {
   "cell_type": "code",
   "execution_count": 35,
   "id": "f0ee4906",
   "metadata": {},
   "outputs": [
    {
     "ename": "TypeError",
     "evalue": "'int' object is not iterable",
     "output_type": "error",
     "traceback": [
      "\u001b[1;31m---------------------------------------------------------------------------\u001b[0m",
      "\u001b[1;31mTypeError\u001b[0m                                 Traceback (most recent call last)",
      "\u001b[1;32m~\\AppData\\Local\\Temp\\ipykernel_7508\\1604029730.py\u001b[0m in \u001b[0;36m<module>\u001b[1;34m\u001b[0m\n\u001b[1;32m----> 1\u001b[1;33m \u001b[0mdf_sort\u001b[0m \u001b[1;33m=\u001b[0m \u001b[0mpd\u001b[0m\u001b[1;33m.\u001b[0m\u001b[0mDataFrame\u001b[0m\u001b[1;33m(\u001b[0m\u001b[1;33m{\u001b[0m\u001b[1;34m'Point'\u001b[0m\u001b[1;33m:\u001b[0m \u001b[1;33m[\u001b[0m\u001b[0mtuple\u001b[0m\u001b[1;33m(\u001b[0m\u001b[0mpoint\u001b[0m\u001b[1;33m)\u001b[0m \u001b[1;32mfor\u001b[0m \u001b[0mpoint\u001b[0m \u001b[1;32min\u001b[0m \u001b[0mscaled_df\u001b[0m\u001b[1;33m]\u001b[0m\u001b[1;33m,\u001b[0m \u001b[1;34m'Cluster'\u001b[0m\u001b[1;33m:\u001b[0m \u001b[0mlabels\u001b[0m\u001b[1;33m}\u001b[0m\u001b[1;33m)\u001b[0m\u001b[1;33m\u001b[0m\u001b[1;33m\u001b[0m\u001b[0m\n\u001b[0m\u001b[0;32m      2\u001b[0m \u001b[1;33m\u001b[0m\u001b[0m\n\u001b[0;32m      3\u001b[0m \u001b[1;31m# Pivot the DataFrame to have separate columns for each cluster\u001b[0m\u001b[1;33m\u001b[0m\u001b[1;33m\u001b[0m\u001b[0m\n\u001b[0;32m      4\u001b[0m \u001b[0mpivot_df\u001b[0m \u001b[1;33m=\u001b[0m \u001b[0mdf_sort\u001b[0m\u001b[1;33m.\u001b[0m\u001b[0mpivot_table\u001b[0m\u001b[1;33m(\u001b[0m\u001b[0mindex\u001b[0m\u001b[1;33m=\u001b[0m\u001b[0mdf_sort\u001b[0m\u001b[1;33m.\u001b[0m\u001b[0mindex\u001b[0m\u001b[1;33m,\u001b[0m \u001b[0mcolumns\u001b[0m\u001b[1;33m=\u001b[0m\u001b[1;34m'Cluster'\u001b[0m\u001b[1;33m,\u001b[0m \u001b[0mvalues\u001b[0m\u001b[1;33m=\u001b[0m\u001b[1;34m'Point'\u001b[0m\u001b[1;33m,\u001b[0m \u001b[0maggfunc\u001b[0m\u001b[1;33m=\u001b[0m\u001b[1;32mlambda\u001b[0m \u001b[0mx\u001b[0m\u001b[1;33m:\u001b[0m \u001b[0mlist\u001b[0m\u001b[1;33m(\u001b[0m\u001b[0mx\u001b[0m\u001b[1;33m)\u001b[0m\u001b[1;33m)\u001b[0m\u001b[1;33m\u001b[0m\u001b[1;33m\u001b[0m\u001b[0m\n\u001b[0;32m      5\u001b[0m \u001b[1;33m\u001b[0m\u001b[0m\n",
      "\u001b[1;32m~\\AppData\\Local\\Temp\\ipykernel_7508\\1604029730.py\u001b[0m in \u001b[0;36m<listcomp>\u001b[1;34m(.0)\u001b[0m\n\u001b[1;32m----> 1\u001b[1;33m \u001b[0mdf_sort\u001b[0m \u001b[1;33m=\u001b[0m \u001b[0mpd\u001b[0m\u001b[1;33m.\u001b[0m\u001b[0mDataFrame\u001b[0m\u001b[1;33m(\u001b[0m\u001b[1;33m{\u001b[0m\u001b[1;34m'Point'\u001b[0m\u001b[1;33m:\u001b[0m \u001b[1;33m[\u001b[0m\u001b[0mtuple\u001b[0m\u001b[1;33m(\u001b[0m\u001b[0mpoint\u001b[0m\u001b[1;33m)\u001b[0m \u001b[1;32mfor\u001b[0m \u001b[0mpoint\u001b[0m \u001b[1;32min\u001b[0m \u001b[0mscaled_df\u001b[0m\u001b[1;33m]\u001b[0m\u001b[1;33m,\u001b[0m \u001b[1;34m'Cluster'\u001b[0m\u001b[1;33m:\u001b[0m \u001b[0mlabels\u001b[0m\u001b[1;33m}\u001b[0m\u001b[1;33m)\u001b[0m\u001b[1;33m\u001b[0m\u001b[1;33m\u001b[0m\u001b[0m\n\u001b[0m\u001b[0;32m      2\u001b[0m \u001b[1;33m\u001b[0m\u001b[0m\n\u001b[0;32m      3\u001b[0m \u001b[1;31m# Pivot the DataFrame to have separate columns for each cluster\u001b[0m\u001b[1;33m\u001b[0m\u001b[1;33m\u001b[0m\u001b[0m\n\u001b[0;32m      4\u001b[0m \u001b[0mpivot_df\u001b[0m \u001b[1;33m=\u001b[0m \u001b[0mdf_sort\u001b[0m\u001b[1;33m.\u001b[0m\u001b[0mpivot_table\u001b[0m\u001b[1;33m(\u001b[0m\u001b[0mindex\u001b[0m\u001b[1;33m=\u001b[0m\u001b[0mdf_sort\u001b[0m\u001b[1;33m.\u001b[0m\u001b[0mindex\u001b[0m\u001b[1;33m,\u001b[0m \u001b[0mcolumns\u001b[0m\u001b[1;33m=\u001b[0m\u001b[1;34m'Cluster'\u001b[0m\u001b[1;33m,\u001b[0m \u001b[0mvalues\u001b[0m\u001b[1;33m=\u001b[0m\u001b[1;34m'Point'\u001b[0m\u001b[1;33m,\u001b[0m \u001b[0maggfunc\u001b[0m\u001b[1;33m=\u001b[0m\u001b[1;32mlambda\u001b[0m \u001b[0mx\u001b[0m\u001b[1;33m:\u001b[0m \u001b[0mlist\u001b[0m\u001b[1;33m(\u001b[0m\u001b[0mx\u001b[0m\u001b[1;33m)\u001b[0m\u001b[1;33m)\u001b[0m\u001b[1;33m\u001b[0m\u001b[1;33m\u001b[0m\u001b[0m\n\u001b[0;32m      5\u001b[0m \u001b[1;33m\u001b[0m\u001b[0m\n",
      "\u001b[1;31mTypeError\u001b[0m: 'int' object is not iterable"
     ]
    }
   ],
   "source": [
    "df_sort = pd.DataFrame({'Point': [tuple(point) for point in scaled_df], 'Cluster': labels})\n",
    "\n",
    "# Pivot the DataFrame to have separate columns for each cluster\n",
    "pivot_df = df_sort.pivot_table(index=df_sort.index, columns='Cluster', values='Point', aggfunc=lambda x: list(x))\n",
    "\n",
    "# Rename the columns for better readability\n",
    "pivot_df.columns = [f'Cluster_{cluster}' for cluster in pivot_df.columns]\n",
    "\n",
    "# Display the result\n",
    "print(pivot_df)\n"
   ]
  },
  {
   "cell_type": "code",
   "execution_count": 41,
   "id": "2148c1c0",
   "metadata": {},
   "outputs": [
    {
     "name": "stdout",
     "output_type": "stream",
     "text": [
      "[[ 9.91425581e-01 -3.43058915e-14  3.66566520e+02  5.05471265e+01\n",
      "   5.82291864e+04  1.67518238e+00]\n",
      " [-2.33146835e-14  5.21041065e-01  3.67081704e+02  4.85129887e+01\n",
      "   5.36882216e+04  1.63144516e+00]\n",
      " [ 9.90479112e-01  1.00000000e+00  3.67016603e+02  5.08857708e+01\n",
      "   5.82843438e+04  1.65660653e+00]\n",
      " [ 1.35390869e-01  5.30172343e-01  3.66094698e+02  6.69655644e+01\n",
      "   9.01990764e+04  1.82087903e+00]]\n"
     ]
    }
   ],
   "source": [
    "print(unscaled_centers)"
   ]
  },
  {
   "cell_type": "code",
   "execution_count": null,
   "id": "92d49c15",
   "metadata": {},
   "outputs": [],
   "source": [
    "print(centers)"
   ]
  },
  {
   "cell_type": "code",
   "execution_count": null,
   "id": "ec6114c6",
   "metadata": {},
   "outputs": [],
   "source": [
    "[[ 9.91425581e-01 -3.43058915e-14  3.66566520e+02  5.05471265e+01\n",
    "   5.82291864e+04  1.67518238]\n",
    " [-2.33146835e-14  5.21041065e-01  3.67081704e+02  4.85129887e+01\n",
    "   5.36882216e+04  1.63144516e+00]\n",
    " [ 9.90479112e-01  1.00000000e+00  3.67016603e+02  5.08857708e+01\n",
    "   5.82843438e+04  1.65660653e+00]\n",
    " [ 1.35390869e-01  5.30172343e-01  3.66094698e+02  6.69655644e+01\n",
    "   9.01990764e+04  1.82087903e+00]]"
   ]
  },
  {
   "cell_type": "code",
   "execution_count": 27,
   "id": "f61b592e",
   "metadata": {},
   "outputs": [
    {
     "data": {
      "text/html": [
       "<div>\n",
       "<style scoped>\n",
       "    .dataframe tbody tr th:only-of-type {\n",
       "        vertical-align: middle;\n",
       "    }\n",
       "\n",
       "    .dataframe tbody tr th {\n",
       "        vertical-align: top;\n",
       "    }\n",
       "\n",
       "    .dataframe thead th {\n",
       "        text-align: right;\n",
       "    }\n",
       "</style>\n",
       "<table border=\"1\" class=\"dataframe\">\n",
       "  <thead>\n",
       "    <tr style=\"text-align: right;\">\n",
       "      <th></th>\n",
       "      <th>gender</th>\n",
       "      <th>ever_married</th>\n",
       "      <th>time</th>\n",
       "      <th>age</th>\n",
       "      <th>income</th>\n",
       "      <th>kids</th>\n",
       "    </tr>\n",
       "  </thead>\n",
       "  <tbody>\n",
       "    <tr>\n",
       "      <th>0</th>\n",
       "      <td>0.0</td>\n",
       "      <td>0.0</td>\n",
       "      <td>18.0</td>\n",
       "      <td>55.0</td>\n",
       "      <td>112000.0</td>\n",
       "      <td>3.0</td>\n",
       "    </tr>\n",
       "    <tr>\n",
       "      <th>1</th>\n",
       "      <td>0.0</td>\n",
       "      <td>0.0</td>\n",
       "      <td>144.0</td>\n",
       "      <td>55.0</td>\n",
       "      <td>112000.0</td>\n",
       "      <td>3.0</td>\n",
       "    </tr>\n",
       "    <tr>\n",
       "      <th>2</th>\n",
       "      <td>0.0</td>\n",
       "      <td>0.0</td>\n",
       "      <td>408.0</td>\n",
       "      <td>55.0</td>\n",
       "      <td>112000.0</td>\n",
       "      <td>3.0</td>\n",
       "    </tr>\n",
       "    <tr>\n",
       "      <th>3</th>\n",
       "      <td>0.0</td>\n",
       "      <td>0.0</td>\n",
       "      <td>504.0</td>\n",
       "      <td>55.0</td>\n",
       "      <td>112000.0</td>\n",
       "      <td>3.0</td>\n",
       "    </tr>\n",
       "    <tr>\n",
       "      <th>4</th>\n",
       "      <td>0.0</td>\n",
       "      <td>0.0</td>\n",
       "      <td>528.0</td>\n",
       "      <td>55.0</td>\n",
       "      <td>112000.0</td>\n",
       "      <td>3.0</td>\n",
       "    </tr>\n",
       "    <tr>\n",
       "      <th>...</th>\n",
       "      <td>...</td>\n",
       "      <td>...</td>\n",
       "      <td>...</td>\n",
       "      <td>...</td>\n",
       "      <td>...</td>\n",
       "      <td>...</td>\n",
       "    </tr>\n",
       "    <tr>\n",
       "      <th>272757</th>\n",
       "      <td>0.0</td>\n",
       "      <td>1.0</td>\n",
       "      <td>480.0</td>\n",
       "      <td>62.0</td>\n",
       "      <td>82000.0</td>\n",
       "      <td>4.0</td>\n",
       "    </tr>\n",
       "    <tr>\n",
       "      <th>272758</th>\n",
       "      <td>0.0</td>\n",
       "      <td>1.0</td>\n",
       "      <td>486.0</td>\n",
       "      <td>62.0</td>\n",
       "      <td>82000.0</td>\n",
       "      <td>4.0</td>\n",
       "    </tr>\n",
       "    <tr>\n",
       "      <th>272759</th>\n",
       "      <td>0.0</td>\n",
       "      <td>1.0</td>\n",
       "      <td>546.0</td>\n",
       "      <td>62.0</td>\n",
       "      <td>82000.0</td>\n",
       "      <td>4.0</td>\n",
       "    </tr>\n",
       "    <tr>\n",
       "      <th>272760</th>\n",
       "      <td>0.0</td>\n",
       "      <td>1.0</td>\n",
       "      <td>576.0</td>\n",
       "      <td>62.0</td>\n",
       "      <td>82000.0</td>\n",
       "      <td>4.0</td>\n",
       "    </tr>\n",
       "    <tr>\n",
       "      <th>272761</th>\n",
       "      <td>0.0</td>\n",
       "      <td>1.0</td>\n",
       "      <td>690.0</td>\n",
       "      <td>62.0</td>\n",
       "      <td>82000.0</td>\n",
       "      <td>4.0</td>\n",
       "    </tr>\n",
       "  </tbody>\n",
       "</table>\n",
       "<p>272762 rows × 6 columns</p>\n",
       "</div>"
      ],
      "text/plain": [
       "        gender  ever_married   time   age    income  kids\n",
       "0          0.0           0.0   18.0  55.0  112000.0   3.0\n",
       "1          0.0           0.0  144.0  55.0  112000.0   3.0\n",
       "2          0.0           0.0  408.0  55.0  112000.0   3.0\n",
       "3          0.0           0.0  504.0  55.0  112000.0   3.0\n",
       "4          0.0           0.0  528.0  55.0  112000.0   3.0\n",
       "...        ...           ...    ...   ...       ...   ...\n",
       "272757     0.0           1.0  480.0  62.0   82000.0   4.0\n",
       "272758     0.0           1.0  486.0  62.0   82000.0   4.0\n",
       "272759     0.0           1.0  546.0  62.0   82000.0   4.0\n",
       "272760     0.0           1.0  576.0  62.0   82000.0   4.0\n",
       "272761     0.0           1.0  690.0  62.0   82000.0   4.0\n",
       "\n",
       "[272762 rows x 6 columns]"
      ]
     },
     "execution_count": 27,
     "metadata": {},
     "output_type": "execute_result"
    }
   ],
   "source": [
    "df"
   ]
  },
  {
   "cell_type": "code",
   "execution_count": null,
   "id": "f748311b",
   "metadata": {},
   "outputs": [],
   "source": []
  }
 ],
 "metadata": {
  "kernelspec": {
   "display_name": "Python 3 (ipykernel)",
   "language": "python",
   "name": "python3"
  },
  "language_info": {
   "codemirror_mode": {
    "name": "ipython",
    "version": 3
   },
   "file_extension": ".py",
   "mimetype": "text/x-python",
   "name": "python",
   "nbconvert_exporter": "python",
   "pygments_lexer": "ipython3",
   "version": "3.9.13"
  }
 },
 "nbformat": 4,
 "nbformat_minor": 5
}
